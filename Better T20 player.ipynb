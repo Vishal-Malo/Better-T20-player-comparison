{
 "cells": [
  {
   "cell_type": "code",
   "execution_count": 1,
   "metadata": {},
   "outputs": [],
   "source": [
    "#importing libraries\n",
    "\n",
    "import numpy as np\n",
    "import pandas as pd\n",
    "from tqdm import tqdm"
   ]
  },
  {
   "cell_type": "code",
   "execution_count": 2,
   "metadata": {},
   "outputs": [],
   "source": [
    "#Extracting the data\n",
    "\n",
    "match=pd.read_csv('matches.csv')\n",
    "delivery=pd.read_csv('deliveries.csv')\n",
    "data=match.merge(delivery, left_on='id', right_on='match_id')"
   ]
  },
  {
   "cell_type": "code",
   "execution_count": 3,
   "metadata": {},
   "outputs": [
    {
     "data": {
      "text/html": [
       "<div>\n",
       "<style scoped>\n",
       "    .dataframe tbody tr th:only-of-type {\n",
       "        vertical-align: middle;\n",
       "    }\n",
       "\n",
       "    .dataframe tbody tr th {\n",
       "        vertical-align: top;\n",
       "    }\n",
       "\n",
       "    .dataframe thead th {\n",
       "        text-align: right;\n",
       "    }\n",
       "</style>\n",
       "<table border=\"1\" class=\"dataframe\">\n",
       "  <thead>\n",
       "    <tr style=\"text-align: right;\">\n",
       "      <th></th>\n",
       "      <th>id</th>\n",
       "      <th>season</th>\n",
       "      <th>city</th>\n",
       "      <th>date</th>\n",
       "      <th>team1</th>\n",
       "      <th>team2</th>\n",
       "      <th>toss_winner</th>\n",
       "      <th>toss_decision</th>\n",
       "      <th>result</th>\n",
       "      <th>dl_applied</th>\n",
       "      <th>...</th>\n",
       "      <th>bye_runs</th>\n",
       "      <th>legbye_runs</th>\n",
       "      <th>noball_runs</th>\n",
       "      <th>penalty_runs</th>\n",
       "      <th>batsman_runs</th>\n",
       "      <th>extra_runs</th>\n",
       "      <th>total_runs</th>\n",
       "      <th>player_dismissed</th>\n",
       "      <th>dismissal_kind</th>\n",
       "      <th>fielder</th>\n",
       "    </tr>\n",
       "  </thead>\n",
       "  <tbody>\n",
       "    <tr>\n",
       "      <th>0</th>\n",
       "      <td>1</td>\n",
       "      <td>2017</td>\n",
       "      <td>Hyderabad</td>\n",
       "      <td>2017-04-05</td>\n",
       "      <td>Sunrisers Hyderabad</td>\n",
       "      <td>Royal Challengers Bangalore</td>\n",
       "      <td>Royal Challengers Bangalore</td>\n",
       "      <td>field</td>\n",
       "      <td>normal</td>\n",
       "      <td>0</td>\n",
       "      <td>...</td>\n",
       "      <td>0</td>\n",
       "      <td>0</td>\n",
       "      <td>0</td>\n",
       "      <td>0</td>\n",
       "      <td>0</td>\n",
       "      <td>0</td>\n",
       "      <td>0</td>\n",
       "      <td>NaN</td>\n",
       "      <td>NaN</td>\n",
       "      <td>NaN</td>\n",
       "    </tr>\n",
       "    <tr>\n",
       "      <th>1</th>\n",
       "      <td>1</td>\n",
       "      <td>2017</td>\n",
       "      <td>Hyderabad</td>\n",
       "      <td>2017-04-05</td>\n",
       "      <td>Sunrisers Hyderabad</td>\n",
       "      <td>Royal Challengers Bangalore</td>\n",
       "      <td>Royal Challengers Bangalore</td>\n",
       "      <td>field</td>\n",
       "      <td>normal</td>\n",
       "      <td>0</td>\n",
       "      <td>...</td>\n",
       "      <td>0</td>\n",
       "      <td>0</td>\n",
       "      <td>0</td>\n",
       "      <td>0</td>\n",
       "      <td>0</td>\n",
       "      <td>0</td>\n",
       "      <td>0</td>\n",
       "      <td>NaN</td>\n",
       "      <td>NaN</td>\n",
       "      <td>NaN</td>\n",
       "    </tr>\n",
       "    <tr>\n",
       "      <th>2</th>\n",
       "      <td>1</td>\n",
       "      <td>2017</td>\n",
       "      <td>Hyderabad</td>\n",
       "      <td>2017-04-05</td>\n",
       "      <td>Sunrisers Hyderabad</td>\n",
       "      <td>Royal Challengers Bangalore</td>\n",
       "      <td>Royal Challengers Bangalore</td>\n",
       "      <td>field</td>\n",
       "      <td>normal</td>\n",
       "      <td>0</td>\n",
       "      <td>...</td>\n",
       "      <td>0</td>\n",
       "      <td>0</td>\n",
       "      <td>0</td>\n",
       "      <td>0</td>\n",
       "      <td>4</td>\n",
       "      <td>0</td>\n",
       "      <td>4</td>\n",
       "      <td>NaN</td>\n",
       "      <td>NaN</td>\n",
       "      <td>NaN</td>\n",
       "    </tr>\n",
       "    <tr>\n",
       "      <th>3</th>\n",
       "      <td>1</td>\n",
       "      <td>2017</td>\n",
       "      <td>Hyderabad</td>\n",
       "      <td>2017-04-05</td>\n",
       "      <td>Sunrisers Hyderabad</td>\n",
       "      <td>Royal Challengers Bangalore</td>\n",
       "      <td>Royal Challengers Bangalore</td>\n",
       "      <td>field</td>\n",
       "      <td>normal</td>\n",
       "      <td>0</td>\n",
       "      <td>...</td>\n",
       "      <td>0</td>\n",
       "      <td>0</td>\n",
       "      <td>0</td>\n",
       "      <td>0</td>\n",
       "      <td>0</td>\n",
       "      <td>0</td>\n",
       "      <td>0</td>\n",
       "      <td>NaN</td>\n",
       "      <td>NaN</td>\n",
       "      <td>NaN</td>\n",
       "    </tr>\n",
       "    <tr>\n",
       "      <th>4</th>\n",
       "      <td>1</td>\n",
       "      <td>2017</td>\n",
       "      <td>Hyderabad</td>\n",
       "      <td>2017-04-05</td>\n",
       "      <td>Sunrisers Hyderabad</td>\n",
       "      <td>Royal Challengers Bangalore</td>\n",
       "      <td>Royal Challengers Bangalore</td>\n",
       "      <td>field</td>\n",
       "      <td>normal</td>\n",
       "      <td>0</td>\n",
       "      <td>...</td>\n",
       "      <td>0</td>\n",
       "      <td>0</td>\n",
       "      <td>0</td>\n",
       "      <td>0</td>\n",
       "      <td>0</td>\n",
       "      <td>2</td>\n",
       "      <td>2</td>\n",
       "      <td>NaN</td>\n",
       "      <td>NaN</td>\n",
       "      <td>NaN</td>\n",
       "    </tr>\n",
       "  </tbody>\n",
       "</table>\n",
       "<p>5 rows × 39 columns</p>\n",
       "</div>"
      ],
      "text/plain": [
       "   id  season       city        date                team1  \\\n",
       "0   1    2017  Hyderabad  2017-04-05  Sunrisers Hyderabad   \n",
       "1   1    2017  Hyderabad  2017-04-05  Sunrisers Hyderabad   \n",
       "2   1    2017  Hyderabad  2017-04-05  Sunrisers Hyderabad   \n",
       "3   1    2017  Hyderabad  2017-04-05  Sunrisers Hyderabad   \n",
       "4   1    2017  Hyderabad  2017-04-05  Sunrisers Hyderabad   \n",
       "\n",
       "                         team2                  toss_winner toss_decision  \\\n",
       "0  Royal Challengers Bangalore  Royal Challengers Bangalore         field   \n",
       "1  Royal Challengers Bangalore  Royal Challengers Bangalore         field   \n",
       "2  Royal Challengers Bangalore  Royal Challengers Bangalore         field   \n",
       "3  Royal Challengers Bangalore  Royal Challengers Bangalore         field   \n",
       "4  Royal Challengers Bangalore  Royal Challengers Bangalore         field   \n",
       "\n",
       "   result  dl_applied   ...    bye_runs  legbye_runs  noball_runs  \\\n",
       "0  normal           0   ...           0            0            0   \n",
       "1  normal           0   ...           0            0            0   \n",
       "2  normal           0   ...           0            0            0   \n",
       "3  normal           0   ...           0            0            0   \n",
       "4  normal           0   ...           0            0            0   \n",
       "\n",
       "  penalty_runs batsman_runs extra_runs total_runs  player_dismissed  \\\n",
       "0            0            0          0          0               NaN   \n",
       "1            0            0          0          0               NaN   \n",
       "2            0            4          0          4               NaN   \n",
       "3            0            0          0          0               NaN   \n",
       "4            0            0          2          2               NaN   \n",
       "\n",
       "   dismissal_kind  fielder  \n",
       "0             NaN      NaN  \n",
       "1             NaN      NaN  \n",
       "2             NaN      NaN  \n",
       "3             NaN      NaN  \n",
       "4             NaN      NaN  \n",
       "\n",
       "[5 rows x 39 columns]"
      ]
     },
     "execution_count": 3,
     "metadata": {},
     "output_type": "execute_result"
    }
   ],
   "source": [
    "data.head()"
   ]
  },
  {
   "cell_type": "code",
   "execution_count": 4,
   "metadata": {},
   "outputs": [
    {
     "data": {
      "text/plain": [
       "Index(['id', 'season', 'city', 'date', 'team1', 'team2', 'toss_winner',\n",
       "       'toss_decision', 'result', 'dl_applied', 'winner', 'win_by_runs',\n",
       "       'win_by_wickets', 'player_of_match', 'venue', 'umpire1', 'umpire2',\n",
       "       'umpire3', 'match_id', 'inning', 'batting_team', 'bowling_team', 'over',\n",
       "       'ball', 'batsman', 'non_striker', 'bowler', 'is_super_over',\n",
       "       'wide_runs', 'bye_runs', 'legbye_runs', 'noball_runs', 'penalty_runs',\n",
       "       'batsman_runs', 'extra_runs', 'total_runs', 'player_dismissed',\n",
       "       'dismissal_kind', 'fielder'],\n",
       "      dtype='object')"
      ]
     },
     "execution_count": 4,
     "metadata": {},
     "output_type": "execute_result"
    }
   ],
   "source": [
    "data.columns"
   ]
  },
  {
   "cell_type": "code",
   "execution_count": 5,
   "metadata": {},
   "outputs": [],
   "source": [
    "#Calculating the average and strike rate of all the batsmen who faced a minimum 100 balls\n",
    "\n",
    "runs=data.groupby('batsman')['batsman_runs'].sum()\n",
    "mask=(data['wide_runs']==0) & (data['noball_runs']==0)\n",
    "balls=data[mask].groupby('batsman')['ball'].count()\n",
    "a=data.groupby('batsman')['player_dismissed'].count()\n",
    "b=data[data['dismissal_kind']=='run out'].groupby('non_striker')['player_dismissed'].count()\n",
    "dismissed=a#+b\n",
    "criteria=balls>100\n",
    "runs=runs[criteria]\n",
    "balls=balls[criteria]\n",
    "dismissed=dismissed[criteria]\n",
    "batsman_average=runs/dismissed\n",
    "batsman_sr=runs*100/balls"
   ]
  },
  {
   "cell_type": "code",
   "execution_count": 6,
   "metadata": {},
   "outputs": [],
   "source": [
    "#Calculating the average and economy rate of all the bowlers who bowled a minimum 100 balls\n",
    "\n",
    "runs=data.groupby('bowler')['total_runs'].sum()\n",
    "mask1=(data['wide_runs']==0) & (data['noball_runs']==0)\n",
    "balls=data[mask1].groupby('bowler')['ball'].count()\n",
    "dismissal=['caught','bowled','lbw','stumped','caught and bowled','hit wicket']\n",
    "out=data[data['dismissal_kind'].isin(dismissal)]\n",
    "wickets=out.groupby('bowler')['dismissal_kind'].count()\n",
    "criteria=balls>100\n",
    "wickets=wickets[criteria]\n",
    "runs=runs[criteria]\n",
    "balls=balls[criteria]\n",
    "bowler_average=runs/wickets\n",
    "bowler_economy=runs*6/balls"
   ]
  },
  {
   "cell_type": "code",
   "execution_count": 7,
   "metadata": {},
   "outputs": [
    {
     "data": {
      "text/plain": [
       "Index(['id', 'season', 'city', 'date', 'team1', 'team2', 'toss_winner',\n",
       "       'toss_decision', 'result', 'dl_applied', 'winner', 'win_by_runs',\n",
       "       'win_by_wickets', 'player_of_match', 'venue', 'umpire1', 'umpire2',\n",
       "       'umpire3', 'match_id', 'inning', 'batting_team', 'bowling_team', 'over',\n",
       "       'ball', 'batsman', 'non_striker', 'bowler', 'is_super_over',\n",
       "       'wide_runs', 'bye_runs', 'legbye_runs', 'noball_runs', 'penalty_runs',\n",
       "       'batsman_runs', 'extra_runs', 'total_runs', 'player_dismissed',\n",
       "       'dismissal_kind', 'fielder'],\n",
       "      dtype='object')"
      ]
     },
     "execution_count": 7,
     "metadata": {},
     "output_type": "execute_result"
    }
   ],
   "source": [
    "data.columns"
   ]
  },
  {
   "cell_type": "code",
   "execution_count": 8,
   "metadata": {},
   "outputs": [],
   "source": [
    "#Calculating the Mean for Normal Distribution\n",
    "\n",
    "batsman_average_mean=batsman_average.mean()\n",
    "batsman_sr_mean=batsman_sr.mean()\n",
    "bowler_average_mean=bowler_average.mean()\n",
    "bowler_economy_mean=bowler_economy.mean()"
   ]
  },
  {
   "cell_type": "code",
   "execution_count": 9,
   "metadata": {},
   "outputs": [],
   "source": [
    "#Calculating the Standard Deviation for Normal Distribution\n",
    "\n",
    "batsman_average_sd=batsman_average.std()\n",
    "batsman_sr_sd=batsman_sr.std()\n",
    "bowler_average_sd=bowler_average.std()\n",
    "bowler_economy_sd=bowler_economy.std()"
   ]
  },
  {
   "cell_type": "code",
   "execution_count": 10,
   "metadata": {},
   "outputs": [],
   "source": [
    "#Function for \n",
    "\n",
    "def batsman_avg(batsman):\n",
    "    mask=data['batsman']==batsman\n",
    "    total_run=int(data[mask].groupby('batsman')['batsman_runs'].sum())\n",
    "    mask1=(data['player_dismissed']==batsman) | ((data['non_striker']==batsman) & (data['player_dismissed']==data['non_striker']))\n",
    "    total_times_dismissed=data[mask1].groupby('batsman')['player_dismissed'].count().max()\n",
    "    return total_run/total_times_dismissed"
   ]
  },
  {
   "cell_type": "code",
   "execution_count": 11,
   "metadata": {},
   "outputs": [],
   "source": [
    "def batsman_strike_rate(batsman):\n",
    "    mask=data['batsman']==batsman\n",
    "    total_run=int(data[mask].groupby('batsman')['batsman_runs'].sum())\n",
    "    mask1=(data['batsman']==batsman) & (data['wide_runs']==0) & (data['noball_runs']==0)\n",
    "    balls_faced=int(data[mask1].groupby('batsman')['ball'].count())\n",
    "    return total_run/balls_faced*100"
   ]
  },
  {
   "cell_type": "code",
   "execution_count": 12,
   "metadata": {},
   "outputs": [],
   "source": [
    "def bowler_avg(bowler):\n",
    "    mask=data['bowler']==bowler\n",
    "    runs=int(data[mask].groupby('bowler')['total_runs'].sum())\n",
    "    dismissal=['caught','bowled','lbw','stumped','caught and bowled','hit wicket']\n",
    "    mask1=(data['bowler']==bowler) & (data['dismissal_kind'].isin(dismissal))\n",
    "    wickets=int(data[mask1].groupby('bowler')['dismissal_kind'].count())\n",
    "    return runs/wickets"
   ]
  },
  {
   "cell_type": "code",
   "execution_count": 13,
   "metadata": {},
   "outputs": [],
   "source": [
    "def bowler_economy_rate(bowler):\n",
    "    mask=data['bowler']==bowler\n",
    "    runs=int(data[mask].groupby('bowler')['total_runs'].sum())\n",
    "    mask1=(data['bowler']==bowler) & (data['wide_runs']==0) & (data['noball_runs']==0)\n",
    "    balls=int(data[mask1].groupby('bowler')['ball'].count())\n",
    "    return runs*6/balls"
   ]
  },
  {
   "cell_type": "code",
   "execution_count": 14,
   "metadata": {},
   "outputs": [],
   "source": [
    "def better_player():\n",
    "    batsman=input(\"Enter the batsman's name : \")\n",
    "    bowler=input(\"Enter the bowler's name : \")\n",
    "    bat_avg=batsman_avg(batsman)\n",
    "    bat_sr=batsman_strike_rate(batsman)\n",
    "    bowl_avg=bowler_avg(bowler)\n",
    "    bowl_eco=bowler_economy_rate(bowler)\n",
    "    \n",
    "    z_batsman_average=(float(bat_avg)-float(batsman_average_mean))/float(batsman_average_sd)\n",
    "    z_batsman_sr=(float(bat_sr)-float(batsman_sr_mean))/float(batsman_sr_sd)\n",
    "    \n",
    "    z_bowler_average=(float(bowl_avg)-float(bowler_average_mean))/float(bowler_average_sd)\n",
    "    z_bowler_economy=(float(bowl_eco)-float(bowler_economy_mean))/float(bowler_economy_sd)\n",
    "    \n",
    "    z_batsman=(float(z_batsman_average)+float(z_batsman_sr))/2\n",
    "    z_bowler=abs((float(z_bowler_average)+float(z_bowler_economy))/2)\n",
    "    \n",
    "    print(batsman,\":\")\n",
    "    print(\"Batting Average :\",bat_avg,\"     Strike Rate :\",bat_sr)\n",
    "    print(bowler,\":\")\n",
    "    print(\"Bowling Average :\",bowl_avg,\"     Economy Rate:\",bowl_eco)\n",
    "    \n",
    "    if z_batsman>z_bowler:\n",
    "        print(batsman,\"is a better T20 player than\",bowler,\".\")\n",
    "    elif z_bowler>z_batsman:\n",
    "        print(bowler,\"is a better T20 player than\",batsman,\".\")\n",
    "    else:\n",
    "        print(\"Both players are of same standard, no comparisons could be made.\")"
   ]
  },
  {
   "cell_type": "code",
   "execution_count": 21,
   "metadata": {},
   "outputs": [
    {
     "name": "stdout",
     "output_type": "stream",
     "text": [
      "Enter the batsman's name : KM Jadhav\n",
      "Enter the bowler's name : SP Narine\n",
      "KM Jadhav :\n",
      "Batting Average : 25.514285714285716      Strike Rate : 136.33587786259542\n",
      "SP Narine :\n",
      "Bowling Average : 21.94736842105263      Economy Rate: 6.478508544795443\n",
      "SP Narine is a better T20 player than KM Jadhav .\n"
     ]
    }
   ],
   "source": [
    "better_player()"
   ]
  },
  {
   "cell_type": "code",
   "execution_count": null,
   "metadata": {},
   "outputs": [],
   "source": []
  }
 ],
 "metadata": {
  "kernelspec": {
   "display_name": "Python 3",
   "language": "python",
   "name": "python3"
  },
  "language_info": {
   "codemirror_mode": {
    "name": "ipython",
    "version": 3
   },
   "file_extension": ".py",
   "mimetype": "text/x-python",
   "name": "python",
   "nbconvert_exporter": "python",
   "pygments_lexer": "ipython3",
   "version": "3.7.1"
  }
 },
 "nbformat": 4,
 "nbformat_minor": 2
}
